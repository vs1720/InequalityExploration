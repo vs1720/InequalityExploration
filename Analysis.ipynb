{
 "cells": [
  {
   "cell_type": "code",
   "execution_count": 1,
   "metadata": {},
   "outputs": [
    {
     "name": "stdout",
     "output_type": "stream",
     "text": [
      
     ]
    }
   ],
   "source": [
    "import json\n",
    "\n",
    "with open(\"init.txt\") as jf:\n",
    "    inp = json.load(jf)\n",
    "\n",
    "accessString = \"postgresql://\" + inp[\"username\"] + \":\" + inp[\"password\"] + \"@\" + inp[\"hostname\"] + \"/\" + inp[\"database\"]\n",
    "\n",
    "from sqlalchemy import create_engine\n",
    "engine = create_engine(accessString, echo = False)"
   ]
  },
  {
   "cell_type": "markdown",
   "metadata": {},
   "source": [
    "# Fullfilling requiremnt: Creating a view"
   ]
  },
  {
   "cell_type": "code",
   "execution_count": 2,
   "metadata": {},
   "outputs": [
    {
     "data": {
      "text/plain": [
       "<sqlalchemy.engine.result.ResultProxy at 0x127ea9284e0>"
      ]
     },
     "execution_count": 2,
     "metadata": {},
     "output_type": "execute_result"
    }
   ],
   "source": [
    "engine.execute(\n",
    "    \"\"\"\n",
    "    DROP VIEW IF EXISTS staged_view;\n",
    "    CREATE VIEW staged_view AS \n",
    "    SELECT * FROM\n",
    "    master_gini as mg, master_wb as wb, master_un as un, master_misc as misc, code_year\n",
    "    WHERE\n",
    "    mg.g_id = wb.wb_id\n",
    "    AND wb.wb_id = un.un_id\n",
    "    AND misc.misc_id = un.un_id\n",
    "    AND un.un_id = code_year.id;\n",
    "    \"\"\"\n",
    ")"
   ]
  },
  {
   "cell_type": "code",
   "execution_count": 3,
   "metadata": {},
   "outputs": [
    {
     "name": "stdout",
     "output_type": "stream",
     "text": [
      "['country', 'gini_disp', 'gini_disp_se', 'gini_mkt', 'gini_mkt_se', 'g_id', 'corruptionSE', 'ruleOfLawSE', 'voice', 'regQual', 'govEffect', 'govEffectSE', 'stabilitySE', 'voiceSE', 'corruption', 'stability', 'regQualSE', 'ruleOfLaw', 'INCOMEPC_growth', 'INCOMEPC', 'trade', 'industrial', 'manu', 'agri', 'urban', 'wb_id', 'HDI', 'EDU_IDX', 'Income_Index', 'life', 'un_id', 'kaopen', 'polity2', 'misc_id', 'code', 'year', 'id']\n"
     ]
    }
   ],
   "source": [
    "columns = engine.execute(\"SELECT * FROM staged_view LIMIT 10\").keys()\n",
    "print(columns)"
   ]
  },
  {
   "cell_type": "markdown",
   "metadata": {},
   "source": [
    "### We're interested in ineuqality. Let's try to see which countries, focusing specifically on the years after 2000, have had the highest average inequality. And to avoid small sample we enforce that there must be at least 10 samples available"
   ]
  },
  {
   "cell_type": "code",
   "execution_count": 4,
   "metadata": {},
   "outputs": [],
   "source": [
    "res1 = engine.execute(\"\"\"\n",
    "    SELECT country, AVG(gini_disp), AVG(gini_mkt)\n",
    "    FROM staged_view\n",
    "    WHERE year > 2000\n",
    "    GROUP BY country\n",
    "    HAVING COUNT(gini_mkt) > 10\n",
    "    ORDER BY AVG(gini_disp) DESC LIMIT 10\n",
    "\"\"\")"
   ]
  },
  {
   "cell_type": "code",
   "execution_count": 5,
   "metadata": {},
   "outputs": [
    {
     "name": "stdout",
     "output_type": "stream",
     "text": [
      "('Namibia', 61.379999999999995, 69.14000000000001)\n",
      "('South Africa', 58.70714285714286, 68.32857142857144)\n",
      "('Haiti', 54.25454545454545, 57.75454545454546)\n",
      "('Zambia', 53.94285714285714, 60.60714285714287)\n",
      "('Honduras', 50.67999999999999, 51.346666666666664)\n",
      "('Colombia', 50.27333333333333, 52.19333333333332)\n",
      "('Sri Lanka', 49.733333333333334, 46.220000000000006)\n",
      "('Cape Verde', 49.10000000000001, 54.335714285714296)\n",
      "('Peru', 48.54666666666667, 51.22666666666667)\n",
      "('Rwanda', 48.43076923076923, 55.20769230769231)\n"
     ]
    }
   ],
   "source": [
    "for x in res1:\n",
    "    print(x)"
   ]
  },
  {
   "cell_type": "markdown",
   "metadata": {},
   "source": [
    "### Are there years in which inequality was particularly bad?"
   ]
  },
  {
   "cell_type": "code",
   "execution_count": 6,
   "metadata": {},
   "outputs": [],
   "source": [
    "res1 = engine.execute(\"\"\"\n",
    "    SELECT year, AVG(gini_disp), AVG(gini_mkt)\n",
    "    FROM staged_view\n",
    "    GROUP BY year\n",
    "    ORDER BY AVG(gini_disp) DESC\n",
    "\"\"\")"
   ]
  },
  {
   "cell_type": "code",
   "execution_count": 7,
   "metadata": {},
   "outputs": [
    {
     "name": "stdout",
     "output_type": "stream",
     "text": [
      "(2004, 39.876623376623385, 47.209090909090904)\n",
      "(2005, 39.77594936708861, 47.07721518987341)\n",
      "(2002, 39.761437908496724, 47.05816993464051)\n",
      "(2003, 39.70774193548387, 47.01612903225806)\n",
      "(2006, 39.650943396226396, 46.93081761006291)\n",
      "(2000, 39.60137931034484, 47.0144827586207)\n",
      "(2007, 39.496855345911946, 46.72578616352205)\n",
      "(1998, 39.32589928057553, 46.80143884892086)\n",
      "(1996, 39.27703703703702, 46.84592592592591)\n",
      "(2008, 39.24193548387098, 46.66387096774194)\n",
      "(2009, 39.02885906040272, 46.638255033557044)\n",
      "(2010, 38.617605633802825, 46.52253521126759)\n",
      "(2011, 38.15909090909089, 46.27348484848485)\n",
      "(2012, 37.93095238095238, 46.215873015873015)\n",
      "(2013, 37.78157894736842, 46.54298245614034)\n",
      "(2014, 37.136363636363626, 46.53636363636364)\n",
      "(2015, 36.74285714285716, 46.73095238095239)\n",
      "(2016, 35.61666666666667, 46.020370370370365)\n"
     ]
    }
   ],
   "source": [
    "for x in res1:\n",
    "    print(x)"
   ]
  },
  {
   "cell_type": "markdown",
   "metadata": {},
   "source": [
    "### There is a very clear trend that recent years have seen inequality decrease!! That's certainly a promising trend"
   ]
  },
  {
   "cell_type": "markdown",
   "metadata": {},
   "source": [
    "### Are poor countries more likely to be inequal? Let's run some queries to get a better understanding of how inequality relates to income per capita. We will also:\n",
    "\n",
    "## Fullfill a requirement: Use common table expression"
   ]
  },
  {
   "cell_type": "code",
   "execution_count": 8,
   "metadata": {},
   "outputs": [],
   "source": [
    "res1 = engine.execute(\"\"\" \n",
    "    WITH very_inequal (cntr, gdsp, gmkt, ipc, ipcg, edu) AS\n",
    "    (SELECT code, AVG(gini_disp), AVG(gini_mkt), AVG(\"INCOMEPC\"), AVG(\"INCOMEPC_growth\"), AVG(\"EDU_IDX\")\n",
    "    FROM staged_view\n",
    "    GROUP BY code\n",
    "    HAVING AVG(gini_disp) > (SELECT AVG(av_gini_d) FROM (SELECT AVG(gini_disp) as av_gini_d FROM staged_view GROUP BY CODE) AS foo)\n",
    "    OR AVG(gini_disp) > (SELECT AVG(av_gini_m) FROM (SELECT AVG(gini_mkt) as av_gini_m FROM staged_view GROUP BY CODE) AS foo)),\n",
    "    \n",
    "    foo2 (val) AS (SELECT AVG(\"INCOMEPC\") FROM staged_view)\n",
    "    \n",
    "    SELECT cntr, cc.cntr_name, \"ipc\", gdsp, gmkt\n",
    "    FROM very_inequal, country_code as cc \n",
    "    WHERE ipc > (SELECT val FROM foo2)\n",
    "    AND cntr = cc.code\n",
    "    ORDER BY ipc DESC;\n",
    "\"\"\")"
   ]
  },
  {
   "cell_type": "code",
   "execution_count": 9,
   "metadata": {},
   "outputs": [
    {
     "name": "stdout",
     "output_type": "stream",
     "text": [
      "('QAT', 'Qatar', 56250.07510555556, 39.786666666666655, 44.32666666666666)\n",
      "('HKG', 'Hong Kong, China (SAR)', 31496.908352777784, 40.68333333333333, 45.48333333333333)\n",
      "('HKG', 'Hong Kong', 31496.908352777784, 40.68333333333333, 45.48333333333333)\n",
      "('BHS', 'Bahamas', 28213.136286666668, 44.81666666666667, 47.41666666666666)\n",
      "('BRB', 'Barbados', 14427.370280722222, 46.65833333333333, 48.85833333333334)\n",
      "('KNA', 'St. Kitts and Nevis', 14071.701238055553, 41.400000000000006, 42.34444444444444)\n",
      "('KNA', 'Saint Kitts and Nevis', 14071.701238055553, 41.400000000000006, 42.34444444444444)\n",
      "('TTO', 'Trinidad and Tobago', 13880.134483388889, 41.857142857142854, 43.87142857142857)\n",
      "('ATG', 'Antigua and Barbuda', 12829.91816988889, 48.1, 47.1)\n",
      "('GNQ', 'Equatorial Guinea', 11976.0258655, 50.5, 55.4)\n",
      "('SYC', 'Seychelles', 11071.781235055554, 41.3875, 45.3)\n"
     ]
    }
   ],
   "source": [
    "for x in res1:\n",
    "    print(x)"
   ]
  },
  {
   "cell_type": "markdown",
   "metadata": {},
   "source": [
    "### We see that there are around 10 or so countries who have above average income per capita but and above average inequality. Hong Kong, interestingly, being chief among them"
   ]
  },
  {
   "cell_type": "code",
   "execution_count": null,
   "metadata": {},
   "outputs": [],
   "source": []
  },
  {
   "cell_type": "markdown",
   "metadata": {},
   "source": [
    "## Now let's put things back in a dataframe so we can run some advanced analytics!"
   ]
  },
  {
   "cell_type": "code",
   "execution_count": 10,
   "metadata": {},
   "outputs": [],
   "source": [
    "import pandas as pd\n",
    "columns = engine.execute(\"SELECT * FROM staged_view LIMIT 10\").keys()\n",
    "data = engine.execute(\"SELECT * FROM staged_view\")\n",
    "rows = []\n",
    "for x in data:\n",
    "    rows.append(list(x))\n",
    "staging_master = pd.DataFrame(rows, columns = columns)"
   ]
  },
  {
   "cell_type": "code",
   "execution_count": 11,
   "metadata": {},
   "outputs": [],
   "source": [
    "import numpy as np\n",
    "import linearmodels\n",
    "from linearmodels import PanelOLS\n",
    "from linearmodels import OLS\n",
    "import statsmodels.api as sm\n",
    "from linearmodels import IV2SLS \n",
    "from linearmodels import IVGMM"
   ]
  },
  {
   "cell_type": "code",
   "execution_count": 12,
   "metadata": {},
   "outputs": [
    {
     "data": {
      "text/plain": [
       "Index(['country', 'gini_disp', 'gini_disp_se', 'gini_mkt', 'gini_mkt_se',\n",
       "       'g_id', 'corruptionSE', 'ruleOfLawSE', 'voice', 'regQual', 'govEffect',\n",
       "       'govEffectSE', 'stabilitySE', 'voiceSE', 'corruption', 'stability',\n",
       "       'regQualSE', 'ruleOfLaw', 'INCOMEPC_growth', 'INCOMEPC', 'trade',\n",
       "       'industrial', 'manu', 'agri', 'urban', 'wb_id', 'HDI', 'EDU_IDX',\n",
       "       'Income_Index', 'life', 'un_id', 'kaopen', 'polity2', 'misc_id', 'code',\n",
       "       'year', 'id'],\n",
       "      dtype='object')"
      ]
     },
     "execution_count": 12,
     "metadata": {},
     "output_type": "execute_result"
    }
   ],
   "source": [
    "staging_master.columns"
   ]
  },
  {
   "cell_type": "code",
   "execution_count": 13,
   "metadata": {},
   "outputs": [],
   "source": [
    "staging_master = staging_master.set_index([\"code\", \"year\"])"
   ]
  },
  {
   "cell_type": "code",
   "execution_count": 14,
   "metadata": {},
   "outputs": [],
   "source": [
    "master = staging_master.drop(columns = [\"un_id\", \"misc_id\", \"wb_id\", \"g_id\", \"country\", \"id\"])"
   ]
  },
  {
   "cell_type": "code",
   "execution_count": 15,
   "metadata": {},
   "outputs": [],
   "source": [
    "master = master.apply(pd.to_numeric)\n",
    "master[\"constant\"] = 1"
   ]
  },
  {
   "cell_type": "markdown",
   "metadata": {},
   "source": [
    "## Let's do some regressions using the linearmodels library!\n",
    "\n",
    "# New technology!"
   ]
  },
  {
   "cell_type": "code",
   "execution_count": 16,
   "metadata": {},
   "outputs": [
    {
     "name": "stdout",
     "output_type": "stream",
     "text": [
      "                            OLS Estimation Summary                            \n",
      "==============================================================================\n",
      "Dep. Variable:              gini_disp   R-squared:                      0.2684\n",
      "Estimator:                        OLS   Adj. R-squared:                 0.2678\n",
      "No. Observations:                2391   F-statistic:                    861.03\n",
      "Date:                Sun, Dec 08 2019   P-value (F-stat)                0.0000\n",
      "Time:                        16:58:39   Distribution:                  chi2(2)\n",
      "Cov. Estimator:                robust                                         \n",
      "                                                                              \n",
      "                                Parameter Estimates                                \n",
      "===================================================================================\n",
      "                 Parameter  Std. Err.     T-stat    P-value    Lower CI    Upper CI\n",
      "-----------------------------------------------------------------------------------\n",
      "INCOMEPC_growth    -0.1937     0.0365    -5.3002     0.0000     -0.2653     -0.1221\n",
      "INCOMEPC           -0.0003  8.923e-06    -29.337     0.0000     -0.0003     -0.0002\n",
      "constant            42.422     0.2138     198.41     0.0000      42.003      42.842\n",
      "===================================================================================\n"
     ]
    },
    {
     "name": "stderr",
     "output_type": "stream",
     "text": [
      "C:\\Users\\Viral Shanker\\Anaconda3\\lib\\site-packages\\linearmodels\\utility.py:454: MissingValueWarning: \n",
      "Inputs contain missing values. Dropping rows with missing observations.\n",
      "  warnings.warn(missing_value_warning_msg, MissingValueWarning)\n"
     ]
    }
   ],
   "source": [
    "mod = OLS(master.gini_disp, master[[\"INCOMEPC_growth\", \"INCOMEPC\", \"constant\"]])\n",
    "res = mod.fit()\n",
    "print(res.summary)"
   ]
  },
  {
   "cell_type": "markdown",
   "metadata": {},
   "source": [
    "## increased income per capita and growth are both associated with a decrease inequality. "
   ]
  },
  {
   "cell_type": "code",
   "execution_count": 17,
   "metadata": {},
   "outputs": [
    {
     "data": {
      "text/plain": [
       "Index(['gini_disp', 'gini_disp_se', 'gini_mkt', 'gini_mkt_se', 'corruptionSE',\n",
       "       'ruleOfLawSE', 'voice', 'regQual', 'govEffect', 'govEffectSE',\n",
       "       'stabilitySE', 'voiceSE', 'corruption', 'stability', 'regQualSE',\n",
       "       'ruleOfLaw', 'INCOMEPC_growth', 'INCOMEPC', 'trade', 'industrial',\n",
       "       'manu', 'agri', 'urban', 'HDI', 'EDU_IDX', 'Income_Index', 'life',\n",
       "       'kaopen', 'polity2', 'constant'],\n",
       "      dtype='object')"
      ]
     },
     "execution_count": 17,
     "metadata": {},
     "output_type": "execute_result"
    }
   ],
   "source": [
    "master.columns"
   ]
  },
  {
   "cell_type": "code",
   "execution_count": 18,
   "metadata": {},
   "outputs": [
    {
     "name": "stdout",
     "output_type": "stream",
     "text": [
      "                            OLS Estimation Summary                            \n",
      "==============================================================================\n",
      "Dep. Variable:              gini_disp   R-squared:                      0.3503\n",
      "Estimator:                        OLS   Adj. R-squared:                 0.3477\n",
      "No. Observations:                2208   F-statistic:                    1584.9\n",
      "Date:                Sun, Dec 08 2019   P-value (F-stat)                0.0000\n",
      "Time:                        16:58:42   Distribution:                  chi2(9)\n",
      "Cov. Estimator:                robust                                         \n",
      "                                                                              \n",
      "                                Parameter Estimates                                \n",
      "===================================================================================\n",
      "                 Parameter  Std. Err.     T-stat    P-value    Lower CI    Upper CI\n",
      "-----------------------------------------------------------------------------------\n",
      "INCOMEPC_growth    -0.1746     0.0381    -4.5840     0.0000     -0.2492     -0.0999\n",
      "HDI                 36.421     6.5991     5.5191     0.0000      23.487      49.355\n",
      "EDU_IDX            -25.276     3.3163    -7.6217     0.0000     -31.775     -18.776\n",
      "INCOMEPC           -0.0002    1.6e-05    -12.729     0.0000     -0.0002     -0.0002\n",
      "trade              -0.0016     0.0030    -0.5533     0.5801     -0.0075      0.0042\n",
      "industrial         -0.0017     0.0171    -0.0979     0.9220     -0.0352      0.0318\n",
      "life               -0.4085     0.0611    -6.6842     0.0000     -0.5282     -0.2887\n",
      "govEffect           3.1460     3.7057     0.8489     0.3959     -4.1171      10.409\n",
      "voice               0.2042     0.3401     0.6005     0.5482     -0.4623      0.8707\n",
      "constant            60.702     2.3570     25.753     0.0000      56.082      65.322\n",
      "===================================================================================\n"
     ]
    },
    {
     "name": "stderr",
     "output_type": "stream",
     "text": [
      "C:\\Users\\Viral Shanker\\Anaconda3\\lib\\site-packages\\linearmodels\\utility.py:454: MissingValueWarning: \n",
      "Inputs contain missing values. Dropping rows with missing observations.\n",
      "  warnings.warn(missing_value_warning_msg, MissingValueWarning)\n"
     ]
    }
   ],
   "source": [
    "mod = OLS(master.gini_disp, master[[\"INCOMEPC_growth\", \"HDI\", \"EDU_IDX\", \"INCOMEPC\", \"trade\", \"industrial\", \"life\", \"govEffect\", \"voice\", \"constant\"]])\n",
    "res = mod.fit()\n",
    "print(res.summary)"
   ]
  },
  {
   "cell_type": "markdown",
   "metadata": {},
   "source": [
    "## Countries with higher life expectancies have less inequality, and higher voice and accountability leads to more inequality. Education itself seems to decrease ineqaulity quite a lot."
   ]
  },
  {
   "cell_type": "markdown",
   "metadata": {},
   "source": [
    "## let's try with gini_mkt"
   ]
  },
  {
   "cell_type": "code",
   "execution_count": 19,
   "metadata": {},
   "outputs": [
    {
     "name": "stdout",
     "output_type": "stream",
     "text": [
      "                            OLS Estimation Summary                            \n",
      "==============================================================================\n",
      "Dep. Variable:               gini_mkt   R-squared:                      0.1521\n",
      "Estimator:                        OLS   Adj. R-squared:                 0.1487\n",
      "No. Observations:                2208   F-statistic:                    259.86\n",
      "Date:                Sun, Dec 08 2019   P-value (F-stat)                0.0000\n",
      "Time:                        16:58:43   Distribution:                  chi2(9)\n",
      "Cov. Estimator:                robust                                         \n",
      "                                                                              \n",
      "                                Parameter Estimates                                \n",
      "===================================================================================\n",
      "                 Parameter  Std. Err.     T-stat    P-value    Lower CI    Upper CI\n",
      "-----------------------------------------------------------------------------------\n",
      "INCOMEPC_growth    -0.1591     0.0360    -4.4245     0.0000     -0.2295     -0.0886\n",
      "HDI                 36.658     5.7996     6.3208     0.0000      25.291      48.025\n",
      "EDU_IDX            -11.717     2.9790    -3.9330     0.0001     -17.556     -5.8779\n",
      "INCOMEPC        -9.659e-05  1.176e-05    -8.2161     0.0000     -0.0001  -7.355e-05\n",
      "trade              -0.0105     0.0017    -6.3363     0.0000     -0.0138     -0.0073\n",
      "industrial         -0.0705     0.0160    -4.3967     0.0000     -0.1020     -0.0391\n",
      "life               -0.5721     0.0530    -10.788     0.0000     -0.6760     -0.4681\n",
      "govEffect          -12.416     2.9693    -4.1814     0.0000     -18.235     -6.5961\n",
      "voice               2.3725     0.2937     8.0790     0.0000      1.7969      2.9481\n",
      "constant            75.289     2.0781     36.230     0.0000      71.216      79.362\n",
      "===================================================================================\n"
     ]
    },
    {
     "name": "stderr",
     "output_type": "stream",
     "text": [
      "C:\\Users\\Viral Shanker\\Anaconda3\\lib\\site-packages\\linearmodels\\utility.py:454: MissingValueWarning: \n",
      "Inputs contain missing values. Dropping rows with missing observations.\n",
      "  warnings.warn(missing_value_warning_msg, MissingValueWarning)\n"
     ]
    }
   ],
   "source": [
    "mod = OLS(master.gini_mkt, master[[\"INCOMEPC_growth\", \"HDI\", \"EDU_IDX\", \"INCOMEPC\", \"trade\", \"industrial\", \"life\", \"govEffect\", \"voice\", \"constant\"]])\n",
    "res = mod.fit()\n",
    "print(res.summary)"
   ]
  },
  {
   "cell_type": "markdown",
   "metadata": {},
   "source": [
    "## horrendous R^2, it seems gini_mkt is hard to pin down, though we do have a lot of significant predictors. "
   ]
  },
  {
   "cell_type": "markdown",
   "metadata": {},
   "source": [
    "## Now in standard econometric fashion ,we will use PANEL methodology, that is, use dummies for every country and year. "
   ]
  },
  {
   "cell_type": "code",
   "execution_count": 20,
   "metadata": {},
   "outputs": [
    {
     "name": "stdout",
     "output_type": "stream",
     "text": [
      "                          PanelOLS Estimation Summary                           \n",
      "================================================================================\n",
      "Dep. Variable:              gini_disp   R-squared:                        0.0556\n",
      "Estimator:                   PanelOLS   R-squared (Between):             -0.3267\n",
      "No. Observations:                2208   R-squared (Within):              -0.1922\n",
      "Date:                Sun, Dec 08 2019   R-squared (Overall):             -0.3388\n",
      "Time:                        16:58:45   Log-likelihood                   -3327.5\n",
      "Cov. Estimator:            Unadjusted                                           \n",
      "                                        F-statistic:                      13.215\n",
      "Entities:                         161   P-value                           0.0000\n",
      "Avg Obs:                       13.714   Distribution:                  F(9,2021)\n",
      "Min Obs:                       1.0000                                           \n",
      "Max Obs:                       18.000   F-statistic (robust):             13.215\n",
      "                                        P-value                           0.0000\n",
      "Time periods:                      18   Distribution:                  F(9,2021)\n",
      "Avg Obs:                       122.67                                           \n",
      "Min Obs:                       53.000                                           \n",
      "Max Obs:                       149.00                                           \n",
      "                                                                                \n",
      "                                Parameter Estimates                                \n",
      "===================================================================================\n",
      "                 Parameter  Std. Err.     T-stat    P-value    Lower CI    Upper CI\n",
      "-----------------------------------------------------------------------------------\n",
      "INCOMEPC_growth    -0.0026     0.0079    -0.3262     0.7443     -0.0181      0.0130\n",
      "HDI                -0.5244     5.0302    -0.1042     0.9170     -10.389      9.3406\n",
      "EDU_IDX             4.7575     2.4973     1.9051     0.0569     -0.1400      9.6551\n",
      "INCOMEPC         4.278e-05  6.446e-06     6.6367     0.0000   3.014e-05   5.542e-05\n",
      "trade               0.0051     0.0017     2.9564     0.0031      0.0017      0.0085\n",
      "industrial         -0.0444     0.0090    -4.9201     0.0000     -0.0621     -0.0267\n",
      "life                0.0176     0.0326     0.5417     0.5881     -0.0462      0.0815\n",
      "govEffect           0.0245     1.6237     0.0151     0.9879     -3.1598      3.2089\n",
      "voice               0.4926     0.1539     3.2002     0.0014      0.1907      0.7945\n",
      "constant            35.134     1.6889     20.803     0.0000      31.822      38.446\n",
      "===================================================================================\n",
      "\n",
      "F-test for Poolability: 421.18\n",
      "P-value: 0.0000\n",
      "Distribution: F(177,2021)\n",
      "\n",
      "Included effects: Entity, Time\n"
     ]
    },
    {
     "name": "stderr",
     "output_type": "stream",
     "text": [
      "C:\\Users\\Viral Shanker\\Anaconda3\\lib\\site-packages\\linearmodels\\utility.py:454: MissingValueWarning: \n",
      "Inputs contain missing values. Dropping rows with missing observations.\n",
      "  warnings.warn(missing_value_warning_msg, MissingValueWarning)\n",
      "C:\\Users\\Viral Shanker\\Anaconda3\\lib\\site-packages\\linearmodels\\panel\\data.py:619: FutureWarning: .labels was deprecated in version 0.24.0. Use .codes instead.\n",
      "  labels = self._frame.index.labels\n",
      "C:\\Users\\Viral Shanker\\Anaconda3\\lib\\site-packages\\linearmodels\\panel\\data.py:308: FutureWarning: .labels was deprecated in version 0.24.0. Use .codes instead.\n",
      "  return list(index.levels[1][index.labels[1]].unique())\n",
      "C:\\Users\\Viral Shanker\\Anaconda3\\lib\\site-packages\\linearmodels\\panel\\data.py:326: FutureWarning: .labels was deprecated in version 0.24.0. Use .codes instead.\n",
      "  return np.asarray(self._frame.index.labels[0])[:, None]\n",
      "C:\\Users\\Viral Shanker\\Anaconda3\\lib\\site-packages\\linearmodels\\panel\\data.py:338: FutureWarning: .labels was deprecated in version 0.24.0. Use .codes instead.\n",
      "  return np.asarray(self._frame.index.labels[1])[:, None]\n",
      "C:\\Users\\Viral Shanker\\Anaconda3\\lib\\site-packages\\linearmodels\\panel\\data.py:314: FutureWarning: .labels was deprecated in version 0.24.0. Use .codes instead.\n",
      "  return list(index.levels[0][index.labels[0]].unique())\n"
     ]
    }
   ],
   "source": [
    "mod = PanelOLS(master.gini_disp, master[[\"INCOMEPC_growth\", \"HDI\", \"EDU_IDX\", \"INCOMEPC\", \"trade\", \"industrial\", \"life\", \"govEffect\", \"voice\", \"constant\"]], entity_effects = True, time_effects = True)\n",
    "res = mod.fit()\n",
    "print(res.summary)"
   ]
  },
  {
   "cell_type": "markdown",
   "metadata": {},
   "source": [
    "## Very interestingly, it seems our regression gets worse! This is in the sense that it seems most of our variables are captured by time-fixed and entity fixed variation - that is to say our normal regression is picking up on differences across countries not within. We need perhaps, better models"
   ]
  },
  {
   "cell_type": "code",
   "execution_count": 21,
   "metadata": {},
   "outputs": [],
   "source": [
    "#let's put it in a csv for future reference\n",
    "\n",
    "master.to_csv(\"masterData12_8.csv\")"
   ]
  },
  {
   "cell_type": "code",
   "execution_count": null,
   "metadata": {},
   "outputs": [],
   "source": []
  }
 ],
 "metadata": {
  "kernelspec": {
   "display_name": "Python (intro-to-ml)",
   "language": "python",
   "name": "intro-to-ml"
  },
  "language_info": {
   "codemirror_mode": {
    "name": "ipython",
    "version": 3
   },
   "file_extension": ".py",
   "mimetype": "text/x-python",
   "name": "python",
   "nbconvert_exporter": "python",
   "pygments_lexer": "ipython3",
   "version": "3.6.5"
  }
 },
 "nbformat": 4,
 "nbformat_minor": 2
}
