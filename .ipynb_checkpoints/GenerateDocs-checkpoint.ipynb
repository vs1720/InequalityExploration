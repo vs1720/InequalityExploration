{
 "cells": [
  {
   "cell_type": "markdown",
   "metadata": {},
   "source": [
    "## Let's document our data. Because there is such a large number of columns from a variety of sources, I made a dataframe to easily keep track of them. "
   ]
  },
  {
   "cell_type": "code",
   "execution_count": 1,
   "metadata": {},
   "outputs": [],
   "source": [
    "## For us, let's make this into a file for future reference\n",
    "import pandas as pd\n",
    "\n",
    "master = pd.read_csv(\"masterData12_8.csv\")"
   ]
  },
  {
   "cell_type": "code",
   "execution_count": 2,
   "metadata": {},
   "outputs": [],
   "source": [
    "rows = []\n",
    "for col in master.columns:\n",
    "    if col == \"code\":\n",
    "        continue\n",
    "    if col == \"year\":\n",
    "        continue\n",
    "    currCol = master[col].dropna()\n",
    "    rows.append([col, currCol.mean(), max(currCol) - min(currCol)])"
   ]
  },
  {
   "cell_type": "code",
   "execution_count": 3,
   "metadata": {},
   "outputs": [],
   "source": [
    "docs = pd.DataFrame(rows, columns = [\"VariableName\", \"Mean\", \"Range\"])"
   ]
  },
  {
   "cell_type": "code",
   "execution_count": 4,
   "metadata": {},
   "outputs": [
    {
     "name": "stdout",
     "output_type": "stream",
     "text": [
      "       VariableName          Mean          Range\n",
      "0         gini_disp     38.951202      42.800000\n",
      "1      gini_disp_se      1.589635       5.300000\n",
      "2          gini_mkt     46.756592      42.200000\n",
      "3       gini_mkt_se      2.124502       7.100000\n",
      "4      corruptionSE      0.283035       0.453911\n",
      "5       ruleOfLawSE     -0.082031       4.706718\n",
      "6             voice     -0.047409       4.882851\n",
      "7           regQual     -0.065628       4.338705\n",
      "8         govEffect      0.180658       0.583809\n",
      "9       govEffectSE      0.215546       0.362391\n",
      "10      stabilitySE     -0.041318       4.060151\n",
      "11          voiceSE      0.190857       0.445928\n",
      "12       corruption      0.162245       0.283890\n",
      "13        stability     -0.046730       4.905584\n",
      "14        regQualSE     -0.089774       5.075039\n",
      "15        ruleOfLaw      0.217252       0.559417\n",
      "16  INCOMEPC_growth      2.586723     184.157619\n",
      "17         INCOMEPC  10420.534877  102947.320977\n",
      "18            trade     86.955778     442.593131\n",
      "19       industrial     26.621319      85.723719\n",
      "20             manu     12.597693      50.404706\n",
      "21             agri     12.838016      79.011435\n",
      "22            urban     54.260207      92.588000\n",
      "23              HDI      0.663840       0.716000\n",
      "24          EDU_IDX      0.596255       0.840000\n",
      "25     Income_Index      0.658260       0.877000\n",
      "26             life     68.809658      48.100000\n",
      "27           kaopen      0.265516       4.000000\n",
      "28          polity2      3.916554      20.000000\n",
      "29         constant      1.000000       0.000000\n"
     ]
    }
   ],
   "source": [
    "print(docs)"
   ]
  },
  {
   "cell_type": "code",
   "execution_count": 5,
   "metadata": {},
   "outputs": [],
   "source": [
    "docs[\"source\"] = \"0\"\n",
    "docs[\"description\"] = \"0\""
   ]
  },
  {
   "cell_type": "code",
   "execution_count": 6,
   "metadata": {},
   "outputs": [],
   "source": [
    "srs = [\"https://fsolt.org/swiid/swiid_source/\",\n",
    "      \"https://fsolt.org/swiid/swiid_source/\",\n",
    "       \"https://fsolt.org/swiid/swiid_source/\",\n",
    "       \"https://fsolt.org/swiid/swiid_source/\"] + [\"https://info.worldbank.org/governance/wgi/\"]*12 + [ \"https://data.worldbank.org/indicator/NY.GDP.PCAP.KD.ZG\",\n",
    "          \"https://data.worldbank.org/indicator/NY.GDP.PCAP.CD\",\n",
    "          \"https://data.worldbank.org/indicator/NE.TRD.GNFS.ZS\",\n",
    "          \"https://data.worldbank.org/indicator/NV.IND.TOTL.ZS\",\n",
    "          \"https://data.worldbank.org/indicator/NV.IND.MANF.ZS\",\n",
    "          \"https://data.worldbank.org/indicator/NV.AGR.TOTL.ZS\",\n",
    "          \"https://data.worldbank.org/indicator/SP.URB.TOTL.IN.ZS\",\n",
    "        ] +[\"http://hdr.undp.org/en/statistics/understanding\"]*4 + [\"http://web.pdx.edu/~ito/Chinn-Ito_website.htm\", \n",
    "      \"http://www.systemicpeace.org/inscrdata.html\", \"nothing\"]"
   ]
  },
  {
   "cell_type": "code",
   "execution_count": 7,
   "metadata": {},
   "outputs": [],
   "source": [
    "docs[\"source\"] = srs"
   ]
  },
  {
   "cell_type": "code",
   "execution_count": 8,
   "metadata": {},
   "outputs": [],
   "source": [
    "units = [\"index\"]*16 + [\"percentGDP\", \"current USD\", \"percentGDP\"] + [\"value_percent_GDP\"]*3 + [\"percent Pop\"] + 3*[\"index\"] + [\"years\", \"index\", \"index\", \"constant\"]"
   ]
  },
  {
   "cell_type": "code",
   "execution_count": 9,
   "metadata": {},
   "outputs": [],
   "source": [
    "docs[\"units\"] = units"
   ]
  },
  {
   "cell_type": "code",
   "execution_count": null,
   "metadata": {},
   "outputs": [],
   "source": []
  },
  {
   "cell_type": "code",
   "execution_count": 10,
   "metadata": {},
   "outputs": [],
   "source": [
    "docs[\"description\"] = [\n",
    "    \"\"\"\n",
    "    The GINI Index is a measure of the deviation of the distribution of income among individuals or households within a country from a perfectly equal distribution. A value of 0 represents absolute equality, a value of 100 absolute inequality. Gini_disp considers only disposable income as income.  Disposable income, in turn, is gross income minus direct taxes: ‘post-tax, post-transfer’ income. \n",
    "    \"\"\",\n",
    "        \"\"\"\n",
    "    The standard error of gini_disp\n",
    "    \"\"\",\n",
    "        \"\"\"\n",
    "    The GINI Index is a measure of the deviation of the distribution of income among individuals or households within a country from a perfectly equal distribution. A value of 0 represents absolute equality, a value of 100 absolute inequality. Gini_mkt considers market income. Market income is defined as the amount of money coming into the household, excluding any government cash or near-cash benefits, the so-called ‘pretax, pre-transfer’ income.\n",
    "    \"\"\",\n",
    "        \"\"\"\n",
    "    The standard deviation if gini_mkt\n",
    "    \"\"\",\n",
    "        \"\"\"\n",
    "    Standard error of Corruption.\n",
    "    \"\"\",\n",
    "     \"\"\"\n",
    "    Standard error of rule of law.\n",
    "    \"\"\",\n",
    "        \"\"\"\n",
    "    Voice and accountability captures perceptions of the extent to which a country's citizens are able to participate in selecting their\n",
    "government, as well as freedom of expression, freedom of association, and a free media. \n",
    "    \"\"\",\n",
    "        \"\"\"\n",
    "    Regulatory quality captures perceptions of the ability of the government to formulate and implement sound policies and regulations that\n",
    "permit and promote private sector development.\n",
    "    \"\"\",\n",
    "        \"\"\"\n",
    "    Government effectiveness captures perceptions of the quality of public services, the quality of the civil service and the degree\n",
    "of its independence from political pressures, the quality of policy formulation and implementation, and the credibility of the\n",
    "government's commitment to such policies.\n",
    "    \"\"\",\n",
    "        \"\"\"\n",
    "    Standard error of government effectiveness.\n",
    "    \"\"\",\n",
    "     \"\"\"\n",
    "    Standard error of stability.\n",
    "    \"\"\",\n",
    "        \"\"\"\n",
    "    Standard error of voice.\n",
    "    \"\"\",\n",
    "        \"\"\"\n",
    "    Control of corruption captures perceptions of the extent to which public power is exercised for private gain, including both petty and grand\n",
    "forms of corruption, as well as \"capture\" of the state by elites and private interests.\n",
    "    \"\"\",\n",
    "        \"\"\"\n",
    "    Political Stability and Absence of Violence/Terrorism measures perceptions of the likelihood of political instability and/or politicallymotivated violence, including terrorism. \n",
    "    \"\"\",\n",
    "        \"\"\"\n",
    "    Standard error of regQual.\n",
    "    \"\"\",\n",
    "     \"\"\"\n",
    "    Rule of law captures perceptions of the extent to which agents have confidence in and abide by the rules of society, and in particular the\n",
    "quality of contract enforcement, property rights, the police, and the courts, as well as the likelihood of crime and violence.\n",
    "    \"\"\",\n",
    "        \"\"\"\n",
    "    Annual percentage growth rate of GDP per capita based on constant local currency. Aggregates are based on constant 2010 U.S. dollars. GDP per capita is gross domestic product divided by midyear population. GDP at purchaser's prices is the sum of gross value added by all resident producers in the economy plus any product taxes and minus any subsidies not included in the value of the products. It is calculated without making deductions for depreciation of fabricated assets or for depletion and degradation of natural resources.\n",
    "    \"\"\",\n",
    "        \"\"\"\n",
    "    GDP per capita is gross domestic product divided by midyear population. GDP is the sum of gross value added by all resident producers in the economy plus any product taxes and minus any subsidies not included in the value of the products. It is calculated without making deductions for depreciation of fabricated assets or for depletion and degradation of natural resources. Data are in current U.S. dollars.\n",
    "    \"\"\",\n",
    "        \"\"\"\n",
    "    Trade is the sum of exports and imports of goods and services measured as a share of gross domestic product.\n",
    "    \"\"\",\n",
    "        \"\"\"\n",
    "    Industry corresponds to ISIC divisions 10-45 and includes manufacturing (ISIC divisions 15-37). It comprises value added in mining, manufacturing (also reported as a separate subgroup), construction, electricity, water, and gas. Value added is the net output of a sector after adding up all outputs and subtracting intermediate inputs. It is calculated without making deductions for depreciation of fabricated assets or depletion and degradation of natural resources. The origin of value added is determined by the International Standard Industrial Classification (ISIC), revision 3 or 4.\n",
    "    \"\"\",\n",
    "     \"\"\"\n",
    "    Manufacturing refers to industries belonging to ISIC divisions 15-37. Value added is the net output of a sector after adding up all outputs and subtracting intermediate inputs. It is calculated without making deductions for depreciation of fabricated assets or depletion and degradation of natural resources. The origin of value added is determined by the International Standard Industrial Classification (ISIC), revision 3. Note: For VAB countries, gross value added at factor cost is used as the denominator.\n",
    "    \"\"\",\n",
    "        \"\"\"\n",
    "    Agriculture corresponds to ISIC divisions 1-5 and includes forestry, hunting, and fishing, as well as cultivation of crops and livestock production. Value added is the net output of a sector after adding up all outputs and subtracting intermediate inputs. It is calculated without making deductions for depreciation of fabricated assets or depletion and degradation of natural resources. The origin of value added is determined by the International Standard Industrial Classification (ISIC), revision 3 or 4.\n",
    "    \"\"\",\n",
    "        \"\"\"\n",
    "    Urban population refers to people living in urban areas as defined by national statistical offices. The data are collected and smoothed by United Nations Population Division.\n",
    "    \"\"\",\n",
    "        \"\"\"\n",
    "    The HDI was created to emphasize that people and their capabilities should be the ultimate criteria for assessing the development of a country, not economic growth alone. \n",
    "    The Human Development Index (HDI) is a summary measure of average achievement in key dimensions of human development: a long and healthy life, being knowledgeable and have a decent standard of living. The HDI is the geometric mean of normalized indices for each of the three dimensions.\n",
    "    \"\"\",\n",
    "        \"\"\"\n",
    "    Education index is an average of mean years of schooling (of adults) and expected years of schooling (of children), both expressed as an index obtained by scaling with the corresponding maxima.\n",
    "    \"\"\",\n",
    "     \"\"\"\n",
    "    GNI per capita (2011 PPP International $, using natural logarithm) expressed as an index using a minimum value of $100 and a maximum value $75,000\n",
    "    \"\"\",\n",
    "        \"\"\"\n",
    "    Number of years a newborn infant could expect to live if prevailing patterns of age-specific mortality rates at the time of birth stay the same throughout the infant’s life.\n",
    "    \"\"\",\n",
    "        \"\"\"\n",
    "    The Chinn-Ito index (KAOPEN) is an index measuring a country's degree of capital account openness. The index was initially introduced in Chinn and Ito (Journal of Development Economics, 2006). KAOPEN is based on the binary dummy variables that codify the tabulation of restrictions on cross-border financial transactions reported in the IMF's Annual Report on Exchange Arrangements and Exchange Restrictions (AREAER).\n",
    "    \"\"\",\n",
    "        \"\"\"\n",
    "    Annual, cross-national, time-series and polity-case formats coding democratic and autocratic \"patterns of authority\" and regime changes in all independent countries with total population greater than 500,000 in 2018.\n",
    "    \"\"\",\n",
    "        \"\"\"\n",
    "    Bias term to aid in regression and predicitive analysis. Just a vector of 1s. \n",
    "    \"\"\",\n",
    "]"
   ]
  },
  {
   "cell_type": "code",
   "execution_count": 11,
   "metadata": {},
   "outputs": [],
   "source": [
    "docs[\"description\"] = docs[\"description\"].str.strip().replace(r\"\\S+\", \" \")"
   ]
  },
  {
   "cell_type": "markdown",
   "metadata": {},
   "source": [
    "## Docs made and cleaned! Now we want pretty output for the Readme. "
   ]
  },
  {
   "cell_type": "code",
   "execution_count": 16,
   "metadata": {},
   "outputs": [
    {
     "name": "stdout",
     "output_type": "stream",
     "text": [
      "<table>\n",
      "<thead>\n",
      "<tr><th>  </th><th>   VariableName</th><th>      Mean</th><th>   Range</th><th>                                                source</th><th>description                                                                                                                                                                                                                                                                                                                                                                                                                                                                                                                                                                                                 </th><th>units            </th></tr>\n",
      "</thead>\n",
      "<tbody>\n",
      "<tr><td>0 </td><td>gini_disp      </td><td>38.9512   </td><td>42.8    </td><td>https://fsolt.org/swiid/swiid_source/                 </td><td>The GINI Index is a measure of the deviation of the distribution of income among individuals or households within a country from a perfectly equal distribution. A value of 0 represents absolute equality, a value of 100 absolute inequality. Gini_disp considers only disposable income as income.  Disposable income, in turn, is gross income minus direct taxes: ‘post-tax, post-transfer’ income.                                                                                                                                                                                                    </td><td>index            </td></tr>\n",
      "<tr><td>1 </td><td>gini_disp_se   </td><td>1.58964   </td><td>5.3     </td><td>https://fsolt.org/swiid/swiid_source/                 </td><td>The standard error of gini_disp                                                                                                                                                                                                                                                                                                                                                                                                                                                                                                                                                                             </td><td>index            </td></tr>\n",
      "<tr><td>2 </td><td>gini_mkt       </td><td>46.7566   </td><td>42.2    </td><td>https://fsolt.org/swiid/swiid_source/                 </td><td>The GINI Index is a measure of the deviation of the distribution of income among individuals or households within a country from a perfectly equal distribution. A value of 0 represents absolute equality, a value of 100 absolute inequality. Gini_mkt considers market income. Market income is defined as the amount of money coming into the household, excluding any government cash or near-cash benefits, the so-called ‘pretax, pre-transfer’ income.                                                                                                                                              </td><td>index            </td></tr>\n",
      "<tr><td>3 </td><td>gini_mkt_se    </td><td>2.1245    </td><td>7.1     </td><td>https://fsolt.org/swiid/swiid_source/                 </td><td>The standard deviation if gini_mkt                                                                                                                                                                                                                                                                                                                                                                                                                                                                                                                                                                          </td><td>index            </td></tr>\n",
      "<tr><td>4 </td><td>corruptionSE   </td><td>0.283035  </td><td>0.453911</td><td>https://info.worldbank.org/governance/wgi/            </td><td>Standard error of Corruption.                                                                                                                                                                                                                                                                                                                                                                                                                                                                                                                                                                               </td><td>index            </td></tr>\n",
      "<tr><td>5 </td><td>ruleOfLawSE    </td><td>-0.0820307</td><td>4.70672 </td><td>https://info.worldbank.org/governance/wgi/            </td><td>Standard error of rule of law.                                                                                                                                                                                                                                                                                                                                                                                                                                                                                                                                                                              </td><td>index            </td></tr>\n",
      "<tr><td>6 </td><td>voice          </td><td>-0.0474092</td><td>4.88285 </td><td>https://info.worldbank.org/governance/wgi/            </td><td>Voice and accountability captures perceptions of the extent to which a country's citizens are able to participate in selecting their\n",
      "government, as well as freedom of expression, freedom of association, and a free media.                                                                                                                                                                                                                                                                                                                                                                                                                                                                                                                                                                                                             </td><td>index            </td></tr>\n",
      "<tr><td>7 </td><td>regQual        </td><td>-0.0656282</td><td>4.33871 </td><td>https://info.worldbank.org/governance/wgi/            </td><td>Regulatory quality captures perceptions of the ability of the government to formulate and implement sound policies and regulations that\n",
      "permit and promote private sector development.                                                                                                                                                                                                                                                                                                                                                                                                                                                                                                                                                                                                             </td><td>index            </td></tr>\n",
      "<tr><td>8 </td><td>govEffect      </td><td>0.180658  </td><td>0.583809</td><td>https://info.worldbank.org/governance/wgi/            </td><td>Government effectiveness captures perceptions of the quality of public services, the quality of the civil service and the degree\n",
      "of its independence from political pressures, the quality of policy formulation and implementation, and the credibility of the\n",
      "government's commitment to such policies.                                                                                                                                                                                                                                                                                                                                                                                                                                                                                                                                                                                                             </td><td>index            </td></tr>\n",
      "<tr><td>9 </td><td>govEffectSE    </td><td>0.215546  </td><td>0.362391</td><td>https://info.worldbank.org/governance/wgi/            </td><td>Standard error of government effectiveness.                                                                                                                                                                                                                                                                                                                                                                                                                                                                                                                                                                 </td><td>index            </td></tr>\n",
      "<tr><td>10</td><td>stabilitySE    </td><td>-0.0413185</td><td>4.06015 </td><td>https://info.worldbank.org/governance/wgi/            </td><td>Standard error of stability.                                                                                                                                                                                                                                                                                                                                                                                                                                                                                                                                                                                </td><td>index            </td></tr>\n",
      "<tr><td>11</td><td>voiceSE        </td><td>0.190857  </td><td>0.445928</td><td>https://info.worldbank.org/governance/wgi/            </td><td>Standard error of voice.                                                                                                                                                                                                                                                                                                                                                                                                                                                                                                                                                                                    </td><td>index            </td></tr>\n",
      "<tr><td>12</td><td>corruption     </td><td>0.162245  </td><td>0.28389 </td><td>https://info.worldbank.org/governance/wgi/            </td><td>Control of corruption captures perceptions of the extent to which public power is exercised for private gain, including both petty and grand\n",
      "forms of corruption, as well as \"capture\" of the state by elites and private interests.                                                                                                                                                                                                                                                                                                                                                                                                                                                                                                                                                                                                             </td><td>index            </td></tr>\n",
      "<tr><td>13</td><td>stability      </td><td>-0.0467297</td><td>4.90558 </td><td>https://info.worldbank.org/governance/wgi/            </td><td>Political Stability and Absence of Violence/Terrorism measures perceptions of the likelihood of political instability and/or politicallymotivated violence, including terrorism.                                                                                                                                                                                                                                                                                                                                                                                                                            </td><td>index            </td></tr>\n",
      "<tr><td>14</td><td>regQualSE      </td><td>-0.0897738</td><td>5.07504 </td><td>https://info.worldbank.org/governance/wgi/            </td><td>Standard error of regQual.                                                                                                                                                                                                                                                                                                                                                                                                                                                                                                                                                                                  </td><td>index            </td></tr>\n",
      "<tr><td>15</td><td>ruleOfLaw      </td><td>0.217252  </td><td>0.559417</td><td>https://info.worldbank.org/governance/wgi/            </td><td>Rule of law captures perceptions of the extent to which agents have confidence in and abide by the rules of society, and in particular the\n",
      "quality of contract enforcement, property rights, the police, and the courts, as well as the likelihood of crime and violence.                                                                                                                                                                                                                                                                                                                                                                                                                                                                                                                                                                                                             </td><td>index            </td></tr>\n",
      "<tr><td>16</td><td>INCOMEPC_growth</td><td>2.58672   </td><td>184.158 </td><td>https://data.worldbank.org/indicator/NY.GDP.PCAP.KD.ZG</td><td>Annual percentage growth rate of GDP per capita based on constant local currency. Aggregates are based on constant 2010 U.S. dollars. GDP per capita is gross domestic product divided by midyear population. GDP at purchaser's prices is the sum of gross value added by all resident producers in the economy plus any product taxes and minus any subsidies not included in the value of the products. It is calculated without making deductions for depreciation of fabricated assets or for depletion and degradation of natural resources.                                                          </td><td>percentGDP       </td></tr>\n",
      "<tr><td>17</td><td>INCOMEPC       </td><td>10420.5   </td><td>102947  </td><td>https://data.worldbank.org/indicator/NY.GDP.PCAP.CD   </td><td>GDP per capita is gross domestic product divided by midyear population. GDP is the sum of gross value added by all resident producers in the economy plus any product taxes and minus any subsidies not included in the value of the products. It is calculated without making deductions for depreciation of fabricated assets or for depletion and degradation of natural resources. Data are in current U.S. dollars.                                                                                                                                                                                    </td><td>current USD      </td></tr>\n",
      "<tr><td>18</td><td>trade          </td><td>86.9558   </td><td>442.593 </td><td>https://data.worldbank.org/indicator/NE.TRD.GNFS.ZS   </td><td>Trade is the sum of exports and imports of goods and services measured as a share of gross domestic product.                                                                                                                                                                                                                                                                                                                                                                                                                                                                                                </td><td>percentGDP       </td></tr>\n",
      "<tr><td>19</td><td>industrial     </td><td>26.6213   </td><td>85.7237 </td><td>https://data.worldbank.org/indicator/NV.IND.TOTL.ZS   </td><td>Industry corresponds to ISIC divisions 10-45 and includes manufacturing (ISIC divisions 15-37). It comprises value added in mining, manufacturing (also reported as a separate subgroup), construction, electricity, water, and gas. Value added is the net output of a sector after adding up all outputs and subtracting intermediate inputs. It is calculated without making deductions for depreciation of fabricated assets or depletion and degradation of natural resources. The origin of value added is determined by the International Standard Industrial Classification (ISIC), revision 3 or 4.</td><td>value_percent_GDP</td></tr>\n",
      "<tr><td>20</td><td>manu           </td><td>12.5977   </td><td>50.4047 </td><td>https://data.worldbank.org/indicator/NV.IND.MANF.ZS   </td><td>Manufacturing refers to industries belonging to ISIC divisions 15-37. Value added is the net output of a sector after adding up all outputs and subtracting intermediate inputs. It is calculated without making deductions for depreciation of fabricated assets or depletion and degradation of natural resources. The origin of value added is determined by the International Standard Industrial Classification (ISIC), revision 3. Note: For VAB countries, gross value added at factor cost is used as the denominator.                                                                              </td><td>value_percent_GDP</td></tr>\n",
      "<tr><td>21</td><td>agri           </td><td>12.838    </td><td>79.0114 </td><td>https://data.worldbank.org/indicator/NV.AGR.TOTL.ZS   </td><td>Agriculture corresponds to ISIC divisions 1-5 and includes forestry, hunting, and fishing, as well as cultivation of crops and livestock production. Value added is the net output of a sector after adding up all outputs and subtracting intermediate inputs. It is calculated without making deductions for depreciation of fabricated assets or depletion and degradation of natural resources. The origin of value added is determined by the International Standard Industrial Classification (ISIC), revision 3 or 4.                                                                                </td><td>value_percent_GDP</td></tr>\n",
      "<tr><td>22</td><td>urban          </td><td>54.2602   </td><td>92.588  </td><td>https://data.worldbank.org/indicator/SP.URB.TOTL.IN.ZS</td><td>Urban population refers to people living in urban areas as defined by national statistical offices. The data are collected and smoothed by United Nations Population Division.                                                                                                                                                                                                                                                                                                                                                                                                                              </td><td>percent Pop      </td></tr>\n",
      "<tr><td>23</td><td>HDI            </td><td>0.66384   </td><td>0.716   </td><td>http://hdr.undp.org/en/statistics/understanding       </td><td>The HDI was created to emphasize that people and their capabilities should be the ultimate criteria for assessing the development of a country, not economic growth alone. \n",
      "    The Human Development Index (HDI) is a summary measure of average achievement in key dimensions of human development: a long and healthy life, being knowledgeable and have a decent standard of living. The HDI is the geometric mean of normalized indices for each of the three dimensions.                                                                                                                                                                                                                                                                                                                                                                                                                                                                                                                                                                                                             </td><td>index            </td></tr>\n",
      "<tr><td>24</td><td>EDU_IDX        </td><td>0.596255  </td><td>0.84    </td><td>http://hdr.undp.org/en/statistics/understanding       </td><td>Education index is an average of mean years of schooling (of adults) and expected years of schooling (of children), both expressed as an index obtained by scaling with the corresponding maxima.                                                                                                                                                                                                                                                                                                                                                                                                           </td><td>index            </td></tr>\n",
      "<tr><td>25</td><td>Income_Index   </td><td>0.65826   </td><td>0.877   </td><td>http://hdr.undp.org/en/statistics/understanding       </td><td>GNI per capita (2011 PPP International $, using natural logarithm) expressed as an index using a minimum value of $100 and a maximum value $75,000                                                                                                                                                                                                                                                                                                                                                                                                                                                          </td><td>index            </td></tr>\n",
      "<tr><td>26</td><td>life           </td><td>68.8097   </td><td>48.1    </td><td>http://hdr.undp.org/en/statistics/understanding       </td><td>Number of years a newborn infant could expect to live if prevailing patterns of age-specific mortality rates at the time of birth stay the same throughout the infant’s life.                                                                                                                                                                                                                                                                                                                                                                                                                               </td><td>years            </td></tr>\n",
      "<tr><td>27</td><td>kaopen         </td><td>0.265516  </td><td>4       </td><td>http://web.pdx.edu/~ito/Chinn-Ito_website.htm         </td><td>The Chinn-Ito index (KAOPEN) is an index measuring a country's degree of capital account openness. The index was initially introduced in Chinn and Ito (Journal of Development Economics, 2006). KAOPEN is based on the binary dummy variables that codify the tabulation of restrictions on cross-border financial transactions reported in the IMF's Annual Report on Exchange Arrangements and Exchange Restrictions (AREAER).                                                                                                                                                                           </td><td>index            </td></tr>\n",
      "<tr><td>28</td><td>polity2        </td><td>3.91655   </td><td>20      </td><td>http://www.systemicpeace.org/inscrdata.html           </td><td>Annual, cross-national, time-series and polity-case formats coding democratic and autocratic \"patterns of authority\" and regime changes in all independent countries with total population greater than 500,000 in 2018.                                                                                                                                                                                                                                                                                                                                                                                    </td><td>index            </td></tr>\n",
      "<tr><td>29</td><td>constant       </td><td>1         </td><td>0       </td><td>nothing                                               </td><td>Bias term to aid in regression and predicitive analysis. Just a vector of 1s.                                                                                                                                                                                                                                                                                                                                                                                                                                                                                                                               </td><td>constant         </td></tr>\n",
      "</tbody>\n",
      "</table>\n"
     ]
    }
   ],
   "source": [
    "from tabulate import tabulate\n",
    "\n",
    "print(tabulate(docs, headers='keys', tablefmt='html', colalign = \"right\"))"
   ]
  },
  {
   "cell_type": "code",
   "execution_count": null,
   "metadata": {},
   "outputs": [],
   "source": []
  },
  {
   "cell_type": "code",
   "execution_count": null,
   "metadata": {},
   "outputs": [],
   "source": []
  },
  {
   "cell_type": "code",
   "execution_count": null,
   "metadata": {},
   "outputs": [],
   "source": []
  },
  {
   "cell_type": "code",
   "execution_count": null,
   "metadata": {},
   "outputs": [],
   "source": []
  }
 ],
 "metadata": {
  "kernelspec": {
   "display_name": "Python (intro-to-ml)",
   "language": "python",
   "name": "intro-to-ml"
  },
  "language_info": {
   "codemirror_mode": {
    "name": "ipython",
    "version": 3
   },
   "file_extension": ".py",
   "mimetype": "text/x-python",
   "name": "python",
   "nbconvert_exporter": "python",
   "pygments_lexer": "ipython3",
   "version": "3.6.5"
  }
 },
 "nbformat": 4,
 "nbformat_minor": 2
}
